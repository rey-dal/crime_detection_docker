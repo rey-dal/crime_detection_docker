{
 "cells": [
  {
   "cell_type": "code",
   "execution_count": 1,
   "metadata": {},
   "outputs": [],
   "source": [
    "import pandas as pd\n",
    "import pymysql"
   ]
  },
  {
   "cell_type": "markdown",
   "metadata": {},
   "source": [
    "DB connection info"
   ]
  },
  {
   "cell_type": "code",
   "execution_count": 2,
   "metadata": {},
   "outputs": [],
   "source": [
    "host = \"localhost\"\n",
    "user = \"root\"\n",
    "password = \"root\"\n",
    "database = \"crime_detection\""
   ]
  },
  {
   "cell_type": "markdown",
   "metadata": {},
   "source": [
    "Connect to db"
   ]
  },
  {
   "cell_type": "code",
   "execution_count": 3,
   "metadata": {},
   "outputs": [],
   "source": [
    "connection = pymysql.connect(host=host, user=user, password=password, db=database)\n",
    "cursor = connection.cursor()"
   ]
  },
  {
   "cell_type": "markdown",
   "metadata": {},
   "source": [
    "Create table"
   ]
  },
  {
   "cell_type": "code",
   "execution_count": 4,
   "metadata": {},
   "outputs": [
    {
     "name": "stdout",
     "output_type": "stream",
     "text": [
      "Succesfully table created!\n"
     ]
    }
   ],
   "source": [
    "my_table = \"\"\"CREATE TABLE raw_data (\n",
    "    dr_no VARCHAR(255),\n",
    "    date_rptd VARCHAR(255),\n",
    "    date_occ VARCHAR(255),\n",
    "    time_occ VARCHAR(255),\n",
    "    area VARCHAR(255),\n",
    "    area_name VARCHAR(255),\n",
    "    rpt_dist_no VARCHAR(255),\n",
    "    part_1_2 VARCHAR(255),\n",
    "    crm_cd VARCHAR(255),\n",
    "    crm_cd_desc VARCHAR(255),\n",
    "    mocodes VARCHAR(255),\n",
    "    vict_age VARCHAR(255),\n",
    "    vict_sex VARCHAR(255),\n",
    "    vict_descent VARCHAR(255),\n",
    "    premis_cd VARCHAR(255),\n",
    "    premis_desc VARCHAR(255),\n",
    "    weapon_used_cd VARCHAR(255),\n",
    "    weapon_desc VARCHAR(255),\n",
    "    status VARCHAR(255),\n",
    "    status_desc VARCHAR(255),\n",
    "    crm_cd_1 VARCHAR(255),\n",
    "    crm_cd_2 VARCHAR(255),\n",
    "    crm_cd_3 VARCHAR(255),\n",
    "    crm_cd_4 VARCHAR(255),\n",
    "    location VARCHAR(255),\n",
    "    cross_street VARCHAR(255),\n",
    "    lat VARCHAR(255),\n",
    "    lon VARCHAR(255)\n",
    ");\"\"\"\n",
    "\n",
    "try:\n",
    "    cursor.execute(my_table)\n",
    "    print(\"Succesfully table created!\")\n",
    "except Exception as e:\n",
    "    print(f\"Error: {e}\")"
   ]
  },
  {
   "cell_type": "markdown",
   "metadata": {},
   "source": [
    "Read CSV\n",
    "\n",
    "> This is original link 'https://catalog.data.gov/dataset/crime-data-from-2010-to-2019'  \n",
    "If you want to perform the operation without downloading the data set, apply the comment line section."
   ]
  },
  {
   "cell_type": "markdown",
   "metadata": {},
   "source": [
    "This dataset reflects incidents of crime in the City of Los Angeles from 2010 - 2019."
   ]
  },
  {
   "cell_type": "code",
   "execution_count": 5,
   "metadata": {},
   "outputs": [],
   "source": [
    "#link = 'https://data.lacity.org/api/views/63jg-8b9z/rows.csv?accessType=DOWNLOAD'\n",
    "#data = pd.read_csv(link)\n",
    "\n",
    "data = pd.read_csv('Crime_Data_from_2010_to_2019.csv')"
   ]
  },
  {
   "cell_type": "markdown",
   "metadata": {},
   "source": [
    "Transferring data to database"
   ]
  },
  {
   "cell_type": "code",
   "execution_count": 7,
   "metadata": {},
   "outputs": [
    {
     "name": "stdout",
     "output_type": "stream",
     "text": [
      "Error: (2013, 'Lost connection to MySQL server during query')\n",
      "INSERT INTO `raw_data`\n",
      "        (\n",
      "        `dr_no`,\n",
      "        `date_rptd`,\n",
      "        `date_occ`,\n",
      "        `time_occ`,\n",
      "        `area`,\n",
      "        `area_name`,\n",
      "        `rpt_dist_no`,\n",
      "        `part_1_2`,\n",
      "        `crm_cd`,\n",
      "        `crm_cd_desc`,\n",
      "        `mocodes`,\n",
      "        `vict_age`,\n",
      "        `vict_sex`,\n",
      "        `vict_descent`,\n",
      "        `premis_cd`,\n",
      "        `premis_desc`,\n",
      "        `weapon_used_cd`,\n",
      "        `weapon_desc`,\n",
      "        `status`,\n",
      "        `status_desc`,\n",
      "        `crm_cd_1`,\n",
      "        `crm_cd_2`,\n",
      "        `crm_cd_3`,\n",
      "        `crm_cd_4`,\n",
      "        `location`,\n",
      "        `cross_street`,\n",
      "        `lat`,\n",
      "        `lon`\n",
      "        )\n",
      "    VALUES\n",
      "        (\n",
      "        \"1307355\",\n",
      "        \"02/20/2010 12:00:00 AM\",\n",
      "        \"02/20/2010 12:00:00 AM\",\n",
      "        \"1350\",\n",
      "        \"13\",\n",
      "        \"Newton\",\n",
      "        \"1385\",\n",
      "        \"2\",\n",
      "        \"900\",\n",
      "        \"VIOLATION OF COURT ORDER\",\n",
      "        \"0913 1814 2000\",\n",
      "        \"48\",\n",
      "        \"M\",\n",
      "        \"H\",\n",
      "        \"501.0\",\n",
      "        \"SINGLE FAMILY DWELLING\",\n",
      "        \"nan\",\n",
      "        \"nan\",\n",
      "        \"AA\",\n",
      "        \"Adult Arrest\",\n",
      "        \"900.0\",\n",
      "        \"nan\",\n",
      "        \"nan\",\n",
      "        \"nan\",\n",
      "        \"300 E  GAGE                         AV\",\n",
      "        \"nan\",\n",
      "        \"33.9825\",\n",
      "        \"-118.2695\"\n",
      "        )\n"
     ]
    }
   ],
   "source": [
    "for i, row in data.iterrows():\n",
    "    sql = \"\"\"INSERT INTO `raw_data`\n",
    "        (\n",
    "        `dr_no`,\n",
    "        `date_rptd`,\n",
    "        `date_occ`,\n",
    "        `time_occ`,\n",
    "        `area`,\n",
    "        `area_name`,\n",
    "        `rpt_dist_no`,\n",
    "        `part_1_2`,\n",
    "        `crm_cd`,\n",
    "        `crm_cd_desc`,\n",
    "        `mocodes`,\n",
    "        `vict_age`,\n",
    "        `vict_sex`,\n",
    "        `vict_descent`,\n",
    "        `premis_cd`,\n",
    "        `premis_desc`,\n",
    "        `weapon_used_cd`,\n",
    "        `weapon_desc`,\n",
    "        `status`,\n",
    "        `status_desc`,\n",
    "        `crm_cd_1`,\n",
    "        `crm_cd_2`,\n",
    "        `crm_cd_3`,\n",
    "        `crm_cd_4`,\n",
    "        `location`,\n",
    "        `cross_street`,\n",
    "        `lat`,\n",
    "        `lon`\n",
    "        )\n",
    "    VALUES\n",
    "        (\n",
    "        \"%s\",\n",
    "        \"%s\",\n",
    "        \"%s\",\n",
    "        \"%s\",\n",
    "        \"%s\",\n",
    "        \"%s\",\n",
    "        \"%s\",\n",
    "        \"%s\",\n",
    "        \"%s\",\n",
    "        \"%s\",\n",
    "        \"%s\",\n",
    "        \"%s\",\n",
    "        \"%s\",\n",
    "        \"%s\",\n",
    "        \"%s\",\n",
    "        \"%s\",\n",
    "        \"%s\",\n",
    "        \"%s\",\n",
    "        \"%s\",\n",
    "        \"%s\",\n",
    "        \"%s\",\n",
    "        \"%s\",\n",
    "        \"%s\",\n",
    "        \"%s\",\n",
    "        \"%s\",\n",
    "        \"%s\",\n",
    "        \"%s\",\n",
    "        \"%s\"\n",
    "        )\"\"\"\n",
    "    try:\n",
    "        q = sql % tuple(row)\n",
    "        cursor.execute(q)\n",
    "        connection.commit()\n",
    "        print(i)\n",
    "    except Exception as e:\n",
    "        print(f\"Error: {e}\")\n",
    "        print(sql % tuple(row))\n",
    "        break"
   ]
  },
  {
   "cell_type": "markdown",
   "metadata": {},
   "source": [
    "Nan values are updating with null"
   ]
  },
  {
   "cell_type": "code",
   "execution_count": 8,
   "metadata": {},
   "outputs": [
    {
     "name": "stdout",
     "output_type": "stream",
     "text": [
      "Error: (0, '')\n"
     ]
    }
   ],
   "source": [
    "try:\n",
    "    cursor.execute(\"UPDATE raw_data SET dr_no = NULL WHERE dr_no = 'nan';\")\n",
    "    cursor.execute(\"UPDATE raw_data SET date_rptd = NULL WHERE date_rptd = 'nan';\")\n",
    "    cursor.execute(\"UPDATE raw_data SET date_occ = NULL WHERE date_occ = 'nan';\")\n",
    "    cursor.execute(\"UPDATE raw_data SET time_occ = NULL WHERE time_occ = 'nan';\")\n",
    "    cursor.execute(\"UPDATE raw_data SET area = NULL WHERE area = 'nan';\")\n",
    "    cursor.execute(\"UPDATE raw_data SET area_name = NULL WHERE area_name = 'nan';\")\n",
    "    cursor.execute(\"UPDATE raw_data SET rpt_dist_no = NULL WHERE rpt_dist_no = 'nan';\")\n",
    "    cursor.execute(\"UPDATE raw_data SET part_1_2 = NULL WHERE part_1_2 = 'nan';\")\n",
    "    cursor.execute(\"UPDATE raw_data SET crm_cd = NULL WHERE crm_cd = 'nan';\")\n",
    "    cursor.execute(\"UPDATE raw_data SET crm_cd_desc = NULL WHERE crm_cd_desc = 'nan';\")\n",
    "    cursor.execute(\"UPDATE raw_data SET mocodes = NULL WHERE mocodes = 'nan';\")\n",
    "    cursor.execute(\"UPDATE raw_data SET vict_age = NULL WHERE vict_age = 'nan';\")\n",
    "    cursor.execute(\"UPDATE raw_data SET vict_sex = NULL WHERE vict_sex = 'nan';\")\n",
    "    cursor.execute(\"UPDATE raw_data SET vict_descent = NULL WHERE vict_descent = 'nan';\")\n",
    "    cursor.execute(\"UPDATE raw_data SET premis_cd = NULL WHERE premis_cd = 'nan';\")\n",
    "    cursor.execute(\"UPDATE raw_data SET premis_desc = NULL WHERE premis_desc = 'nan';\")\n",
    "    cursor.execute(\"UPDATE raw_data SET weapon_used_cd = NULL WHERE weapon_used_cd = 'nan';\")\n",
    "    cursor.execute(\"UPDATE raw_data SET weapon_desc = NULL WHERE weapon_desc = 'nan';\")\n",
    "    cursor.execute(\"UPDATE raw_data SET status = NULL WHERE status = 'nan';\")\n",
    "    cursor.execute(\"UPDATE raw_data SET status_desc = NULL WHERE status_desc = 'nan';\")\n",
    "    cursor.execute(\"UPDATE raw_data SET crm_cd_1 = NULL WHERE crm_cd_1 = 'nan';\")\n",
    "    cursor.execute(\"UPDATE raw_data SET crm_cd_2 = NULL WHERE crm_cd_2 = 'nan';\")\n",
    "    cursor.execute(\"UPDATE raw_data SET crm_cd_3 = NULL WHERE crm_cd_3 = 'nan';\")\n",
    "    cursor.execute(\"UPDATE raw_data SET crm_cd_4 = NULL WHERE crm_cd_4 = 'nan';\")\n",
    "    cursor.execute(\"UPDATE raw_data SET location = NULL WHERE location = 'nan';\")\n",
    "    cursor.execute(\"UPDATE raw_data SET cross_street = NULL WHERE cross_street = 'nan';\")\n",
    "    cursor.execute(\"UPDATE raw_data SET lat = NULL WHERE lat = 'nan';\")\n",
    "    cursor.execute(\"UPDATE raw_data SET lon = NULL WHERE lon = 'nan';\")\n",
    "    print(\"Succesfully content updated!\")\n",
    "except Exception as e:\n",
    "    print(f\"Error: {e}\")\n"
   ]
  },
  {
   "cell_type": "markdown",
   "metadata": {},
   "source": [
    "Close everything..."
   ]
  },
  {
   "cell_type": "code",
   "execution_count": null,
   "metadata": {},
   "outputs": [],
   "source": [
    "cursor.close()\n",
    "connection.close()"
   ]
  }
 ],
 "metadata": {
  "kernelspec": {
   "display_name": "Python 3",
   "language": "python",
   "name": "python3"
  },
  "language_info": {
   "codemirror_mode": {
    "name": "ipython",
    "version": 3
   },
   "file_extension": ".py",
   "mimetype": "text/x-python",
   "name": "python",
   "nbconvert_exporter": "python",
   "pygments_lexer": "ipython3",
   "version": "3.12.6"
  }
 },
 "nbformat": 4,
 "nbformat_minor": 2
}
